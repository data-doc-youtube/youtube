{
 "cells": [
  {
   "cell_type": "code",
   "execution_count": 1,
   "id": "879e5d4c",
   "metadata": {},
   "outputs": [],
   "source": [
    "import pandas as pd"
   ]
  },
  {
   "cell_type": "code",
   "execution_count": 2,
   "id": "fd79e130",
   "metadata": {},
   "outputs": [],
   "source": [
    "df = pd.read_csv('merged_movies_data_2024.csv')"
   ]
  },
  {
   "cell_type": "code",
   "execution_count": 3,
   "id": "35c9491f",
   "metadata": {},
   "outputs": [
    {
     "data": {
      "text/plain": [
       "(600, 23)"
      ]
     },
     "execution_count": 3,
     "metadata": {},
     "output_type": "execute_result"
    }
   ],
   "source": [
    "df.shape"
   ]
  },
  {
   "cell_type": "code",
   "execution_count": 4,
   "id": "a4507ca5",
   "metadata": {},
   "outputs": [
    {
     "data": {
      "text/html": [
       "<div>\n",
       "<style scoped>\n",
       "    .dataframe tbody tr th:only-of-type {\n",
       "        vertical-align: middle;\n",
       "    }\n",
       "\n",
       "    .dataframe tbody tr th {\n",
       "        vertical-align: top;\n",
       "    }\n",
       "\n",
       "    .dataframe thead th {\n",
       "        text-align: right;\n",
       "    }\n",
       "</style>\n",
       "<table border=\"1\" class=\"dataframe\">\n",
       "  <thead>\n",
       "    <tr style=\"text-align: right;\">\n",
       "      <th></th>\n",
       "      <th>Title</th>\n",
       "      <th>Movie Link</th>\n",
       "      <th>Year</th>\n",
       "      <th>Duration</th>\n",
       "      <th>MPA</th>\n",
       "      <th>Rating</th>\n",
       "      <th>Votes</th>\n",
       "      <th>budget</th>\n",
       "      <th>grossWorldWide</th>\n",
       "      <th>gross_US_Canada</th>\n",
       "      <th>...</th>\n",
       "      <th>stars</th>\n",
       "      <th>genres</th>\n",
       "      <th>countries_origin</th>\n",
       "      <th>filming_locations</th>\n",
       "      <th>production_companies</th>\n",
       "      <th>Languages</th>\n",
       "      <th>wins</th>\n",
       "      <th>nominations</th>\n",
       "      <th>oscars</th>\n",
       "      <th>release_date</th>\n",
       "    </tr>\n",
       "  </thead>\n",
       "  <tbody>\n",
       "    <tr>\n",
       "      <th>0</th>\n",
       "      <td>1. Inside Out 2</td>\n",
       "      <td>https://www.imdb.com/title/tt22022452/?ref_=sr...</td>\n",
       "      <td>2024</td>\n",
       "      <td>1h 36m</td>\n",
       "      <td>PG</td>\n",
       "      <td>7.6</td>\n",
       "      <td>194K</td>\n",
       "      <td>200000000.0</td>\n",
       "      <td>1.698773e+09</td>\n",
       "      <td>652980194.0</td>\n",
       "      <td>...</td>\n",
       "      <td>['Amy Poehler', 'Maya Hawke', 'Kensington Tall...</td>\n",
       "      <td>['Coming-of-Age', 'Computer Animation', 'Quest...</td>\n",
       "      <td>['United States']</td>\n",
       "      <td>['Walt Disney Feature Animation - 500 S. Buena...</td>\n",
       "      <td>['Walt Disney Pictures', 'Pixar Animation Stud...</td>\n",
       "      <td>['English']</td>\n",
       "      <td>0</td>\n",
       "      <td>63</td>\n",
       "      <td>0</td>\n",
       "      <td>2024</td>\n",
       "    </tr>\n",
       "    <tr>\n",
       "      <th>1</th>\n",
       "      <td>2. Deadpool &amp; Wolverine</td>\n",
       "      <td>https://www.imdb.com/title/tt6263850/?ref_=sr_t_2</td>\n",
       "      <td>2024</td>\n",
       "      <td>2h 8m</td>\n",
       "      <td>R</td>\n",
       "      <td>7.6</td>\n",
       "      <td>441K</td>\n",
       "      <td>200000000.0</td>\n",
       "      <td>1.338074e+09</td>\n",
       "      <td>636745858.0</td>\n",
       "      <td>...</td>\n",
       "      <td>['Ryan Reynolds', 'Hugh Jackman', 'Emma Corrin']</td>\n",
       "      <td>['Buddy Comedy', 'Dark Comedy', 'Raunchy Comed...</td>\n",
       "      <td>['United States', 'United Kingdom', 'New Zeala...</td>\n",
       "      <td>['Vancouver Film Studios - 3500 Cornett Rd, Va...</td>\n",
       "      <td>['Marvel Studios', '20th Century Studios', 'Ma...</td>\n",
       "      <td>['English', 'French', 'Spanish']</td>\n",
       "      <td>0</td>\n",
       "      <td>35</td>\n",
       "      <td>0</td>\n",
       "      <td>2024</td>\n",
       "    </tr>\n",
       "    <tr>\n",
       "      <th>2</th>\n",
       "      <td>3. Wicked</td>\n",
       "      <td>https://www.imdb.com/title/tt1262426/?ref_=sr_t_3</td>\n",
       "      <td>2024</td>\n",
       "      <td>2h 40m</td>\n",
       "      <td>PG</td>\n",
       "      <td>7.9</td>\n",
       "      <td>90K</td>\n",
       "      <td>150000000.0</td>\n",
       "      <td>6.547759e+08</td>\n",
       "      <td>443881945.0</td>\n",
       "      <td>...</td>\n",
       "      <td>['Cynthia Erivo', 'Ariana Grande', 'Jeff Goldb...</td>\n",
       "      <td>['Fairy Tale', 'Pop Musical', 'Fantasy', 'Musi...</td>\n",
       "      <td>['United States', 'Japan', 'Canada', 'Iceland'...</td>\n",
       "      <td>['Sky Studios Elstree Rowley, Borehamwood, Her...</td>\n",
       "      <td>['Universal Pictures', 'Marc Platt Productions...</td>\n",
       "      <td>['English']</td>\n",
       "      <td>0</td>\n",
       "      <td>172</td>\n",
       "      <td>0</td>\n",
       "      <td>2024</td>\n",
       "    </tr>\n",
       "    <tr>\n",
       "      <th>3</th>\n",
       "      <td>4. Moana 2</td>\n",
       "      <td>https://www.imdb.com/title/tt13622970/?ref_=sr...</td>\n",
       "      <td>2024</td>\n",
       "      <td>1h 40m</td>\n",
       "      <td>PG</td>\n",
       "      <td>7.0</td>\n",
       "      <td>56K</td>\n",
       "      <td>150000000.0</td>\n",
       "      <td>9.134555e+08</td>\n",
       "      <td>416855483.0</td>\n",
       "      <td>...</td>\n",
       "      <td>[\"Auli'i Cravalho\", 'Dwayne Johnson', 'Hualala...</td>\n",
       "      <td>['Computer Animation', 'Sea Adventure', 'Adven...</td>\n",
       "      <td>['United States', 'Canada']</td>\n",
       "      <td>['Walt Disney Animation Studios, Vancouver BC']</td>\n",
       "      <td>['Disney Television Animation', 'The Walt Disn...</td>\n",
       "      <td>['English']</td>\n",
       "      <td>0</td>\n",
       "      <td>12</td>\n",
       "      <td>0</td>\n",
       "      <td>2024</td>\n",
       "    </tr>\n",
       "    <tr>\n",
       "      <th>4</th>\n",
       "      <td>5. Despicable Me 4</td>\n",
       "      <td>https://www.imdb.com/title/tt7510222/?ref_=sr_t_5</td>\n",
       "      <td>2024</td>\n",
       "      <td>1h 34m</td>\n",
       "      <td>PG</td>\n",
       "      <td>6.2</td>\n",
       "      <td>55K</td>\n",
       "      <td>100000000.0</td>\n",
       "      <td>9.691265e+08</td>\n",
       "      <td>361004205.0</td>\n",
       "      <td>...</td>\n",
       "      <td>['Steve Carell', 'Kristen Wiig', 'Pierre Coffin']</td>\n",
       "      <td>['Computer Animation', 'Urban Adventure', 'Adv...</td>\n",
       "      <td>['United States']</td>\n",
       "      <td>[]</td>\n",
       "      <td>['Universal Pictures', 'Illumination Entertain...</td>\n",
       "      <td>['English']</td>\n",
       "      <td>0</td>\n",
       "      <td>3</td>\n",
       "      <td>0</td>\n",
       "      <td>2024</td>\n",
       "    </tr>\n",
       "  </tbody>\n",
       "</table>\n",
       "<p>5 rows × 23 columns</p>\n",
       "</div>"
      ],
      "text/plain": [
       "                     Title                                         Movie Link  \\\n",
       "0          1. Inside Out 2  https://www.imdb.com/title/tt22022452/?ref_=sr...   \n",
       "1  2. Deadpool & Wolverine  https://www.imdb.com/title/tt6263850/?ref_=sr_t_2   \n",
       "2                3. Wicked  https://www.imdb.com/title/tt1262426/?ref_=sr_t_3   \n",
       "3               4. Moana 2  https://www.imdb.com/title/tt13622970/?ref_=sr...   \n",
       "4       5. Despicable Me 4  https://www.imdb.com/title/tt7510222/?ref_=sr_t_5   \n",
       "\n",
       "   Year Duration MPA  Rating Votes       budget  grossWorldWide  \\\n",
       "0  2024   1h 36m  PG     7.6  194K  200000000.0    1.698773e+09   \n",
       "1  2024    2h 8m   R     7.6  441K  200000000.0    1.338074e+09   \n",
       "2  2024   2h 40m  PG     7.9   90K  150000000.0    6.547759e+08   \n",
       "3  2024   1h 40m  PG     7.0   56K  150000000.0    9.134555e+08   \n",
       "4  2024   1h 34m  PG     6.2   55K  100000000.0    9.691265e+08   \n",
       "\n",
       "   gross_US_Canada  ...                                              stars  \\\n",
       "0      652980194.0  ...  ['Amy Poehler', 'Maya Hawke', 'Kensington Tall...   \n",
       "1      636745858.0  ...   ['Ryan Reynolds', 'Hugh Jackman', 'Emma Corrin']   \n",
       "2      443881945.0  ...  ['Cynthia Erivo', 'Ariana Grande', 'Jeff Goldb...   \n",
       "3      416855483.0  ...  [\"Auli'i Cravalho\", 'Dwayne Johnson', 'Hualala...   \n",
       "4      361004205.0  ...  ['Steve Carell', 'Kristen Wiig', 'Pierre Coffin']   \n",
       "\n",
       "                                              genres  \\\n",
       "0  ['Coming-of-Age', 'Computer Animation', 'Quest...   \n",
       "1  ['Buddy Comedy', 'Dark Comedy', 'Raunchy Comed...   \n",
       "2  ['Fairy Tale', 'Pop Musical', 'Fantasy', 'Musi...   \n",
       "3  ['Computer Animation', 'Sea Adventure', 'Adven...   \n",
       "4  ['Computer Animation', 'Urban Adventure', 'Adv...   \n",
       "\n",
       "                                    countries_origin  \\\n",
       "0                                  ['United States']   \n",
       "1  ['United States', 'United Kingdom', 'New Zeala...   \n",
       "2  ['United States', 'Japan', 'Canada', 'Iceland'...   \n",
       "3                        ['United States', 'Canada']   \n",
       "4                                  ['United States']   \n",
       "\n",
       "                                   filming_locations  \\\n",
       "0  ['Walt Disney Feature Animation - 500 S. Buena...   \n",
       "1  ['Vancouver Film Studios - 3500 Cornett Rd, Va...   \n",
       "2  ['Sky Studios Elstree Rowley, Borehamwood, Her...   \n",
       "3    ['Walt Disney Animation Studios, Vancouver BC']   \n",
       "4                                                 []   \n",
       "\n",
       "                                production_companies  \\\n",
       "0  ['Walt Disney Pictures', 'Pixar Animation Stud...   \n",
       "1  ['Marvel Studios', '20th Century Studios', 'Ma...   \n",
       "2  ['Universal Pictures', 'Marc Platt Productions...   \n",
       "3  ['Disney Television Animation', 'The Walt Disn...   \n",
       "4  ['Universal Pictures', 'Illumination Entertain...   \n",
       "\n",
       "                          Languages wins nominations oscars  release_date  \n",
       "0                       ['English']    0          63      0          2024  \n",
       "1  ['English', 'French', 'Spanish']    0          35      0          2024  \n",
       "2                       ['English']    0         172      0          2024  \n",
       "3                       ['English']    0          12      0          2024  \n",
       "4                       ['English']    0           3      0          2024  \n",
       "\n",
       "[5 rows x 23 columns]"
      ]
     },
     "execution_count": 4,
     "metadata": {},
     "output_type": "execute_result"
    }
   ],
   "source": [
    "df.head()"
   ]
  },
  {
   "cell_type": "code",
   "execution_count": 5,
   "id": "13b7bc76",
   "metadata": {},
   "outputs": [
    {
     "name": "stdout",
     "output_type": "stream",
     "text": [
      "<class 'pandas.core.frame.DataFrame'>\n",
      "RangeIndex: 600 entries, 0 to 599\n",
      "Data columns (total 23 columns):\n",
      " #   Column                 Non-Null Count  Dtype  \n",
      "---  ------                 --------------  -----  \n",
      " 0   Title                  600 non-null    object \n",
      " 1   Movie Link             600 non-null    object \n",
      " 2   Year                   600 non-null    int64  \n",
      " 3   Duration               594 non-null    object \n",
      " 4   MPA                    369 non-null    object \n",
      " 5   Rating                 597 non-null    float64\n",
      " 6   Votes                  597 non-null    object \n",
      " 7   budget                 151 non-null    float64\n",
      " 8   grossWorldWide         424 non-null    float64\n",
      " 9   gross_US_Canada        316 non-null    float64\n",
      " 10  opening_weekend_Gross  298 non-null    float64\n",
      " 11  directors              600 non-null    object \n",
      " 12  writers                600 non-null    object \n",
      " 13  stars                  600 non-null    object \n",
      " 14  genres                 600 non-null    object \n",
      " 15  countries_origin       600 non-null    object \n",
      " 16  filming_locations      600 non-null    object \n",
      " 17  production_companies   600 non-null    object \n",
      " 18  Languages              600 non-null    object \n",
      " 19  wins                   600 non-null    int64  \n",
      " 20  nominations            600 non-null    int64  \n",
      " 21  oscars                 600 non-null    int64  \n",
      " 22  release_date           600 non-null    int64  \n",
      "dtypes: float64(5), int64(5), object(13)\n",
      "memory usage: 107.9+ KB\n"
     ]
    }
   ],
   "source": [
    "df.info()"
   ]
  },
  {
   "cell_type": "markdown",
   "id": "0670a390",
   "metadata": {},
   "source": [
    "<hr style=\"border:2px solid black\">"
   ]
  },
  {
   "cell_type": "markdown",
   "id": "52e00f59",
   "metadata": {},
   "source": [
    "### Method\n",
    "#### Drop rows with NULLs"
   ]
  },
  {
   "cell_type": "code",
   "execution_count": 6,
   "id": "52e91f94",
   "metadata": {},
   "outputs": [
    {
     "data": {
      "text/plain": [
       "(600, 23)"
      ]
     },
     "execution_count": 6,
     "metadata": {},
     "output_type": "execute_result"
    }
   ],
   "source": [
    "df.shape"
   ]
  },
  {
   "cell_type": "code",
   "execution_count": 7,
   "id": "e1cde589",
   "metadata": {},
   "outputs": [
    {
     "data": {
      "text/plain": [
       "(98, 23)"
      ]
     },
     "execution_count": 7,
     "metadata": {},
     "output_type": "execute_result"
    }
   ],
   "source": [
    "df_without_nulls = df.dropna()\n",
    "df_without_nulls.shape"
   ]
  },
  {
   "cell_type": "markdown",
   "id": "709e0479",
   "metadata": {},
   "source": [
    "<hr style=\"border:2px solid black\">"
   ]
  },
  {
   "cell_type": "markdown",
   "id": "77b1f82f",
   "metadata": {},
   "source": [
    "### Method\n",
    "#### Drop columns with a high percentage of NULLs"
   ]
  },
  {
   "cell_type": "code",
   "execution_count": 8,
   "id": "d52e0aee",
   "metadata": {},
   "outputs": [
    {
     "data": {
      "text/plain": [
       "Title                      0\n",
       "Movie Link                 0\n",
       "Year                       0\n",
       "Duration                   6\n",
       "MPA                      231\n",
       "Rating                     3\n",
       "Votes                      3\n",
       "budget                   449\n",
       "grossWorldWide           176\n",
       "gross_US_Canada          284\n",
       "opening_weekend_Gross    302\n",
       "directors                  0\n",
       "writers                    0\n",
       "stars                      0\n",
       "genres                     0\n",
       "countries_origin           0\n",
       "filming_locations          0\n",
       "production_companies       0\n",
       "Languages                  0\n",
       "wins                       0\n",
       "nominations                0\n",
       "oscars                     0\n",
       "release_date               0\n",
       "dtype: int64"
      ]
     },
     "execution_count": 8,
     "metadata": {},
     "output_type": "execute_result"
    }
   ],
   "source": [
    "df.isna().sum()"
   ]
  },
  {
   "cell_type": "code",
   "execution_count": 9,
   "id": "2de012e2",
   "metadata": {},
   "outputs": [
    {
     "data": {
      "text/plain": [
       "Title                    0.000000\n",
       "Movie Link               0.000000\n",
       "Year                     0.000000\n",
       "Duration                 0.010000\n",
       "MPA                      0.385000\n",
       "Rating                   0.005000\n",
       "Votes                    0.005000\n",
       "budget                   0.748333\n",
       "grossWorldWide           0.293333\n",
       "gross_US_Canada          0.473333\n",
       "opening_weekend_Gross    0.503333\n",
       "directors                0.000000\n",
       "writers                  0.000000\n",
       "stars                    0.000000\n",
       "genres                   0.000000\n",
       "countries_origin         0.000000\n",
       "filming_locations        0.000000\n",
       "production_companies     0.000000\n",
       "Languages                0.000000\n",
       "wins                     0.000000\n",
       "nominations              0.000000\n",
       "oscars                   0.000000\n",
       "release_date             0.000000\n",
       "dtype: float64"
      ]
     },
     "execution_count": 9,
     "metadata": {},
     "output_type": "execute_result"
    }
   ],
   "source": [
    "df.isna().sum() / df.isna().count()"
   ]
  },
  {
   "cell_type": "code",
   "execution_count": 10,
   "id": "02871311",
   "metadata": {},
   "outputs": [
    {
     "data": {
      "text/plain": [
       "Title                     True\n",
       "Movie Link                True\n",
       "Year                      True\n",
       "Duration                  True\n",
       "MPA                       True\n",
       "Rating                    True\n",
       "Votes                     True\n",
       "budget                   False\n",
       "grossWorldWide            True\n",
       "gross_US_Canada           True\n",
       "opening_weekend_Gross    False\n",
       "directors                 True\n",
       "writers                   True\n",
       "stars                     True\n",
       "genres                    True\n",
       "countries_origin          True\n",
       "filming_locations         True\n",
       "production_companies      True\n",
       "Languages                 True\n",
       "wins                      True\n",
       "nominations               True\n",
       "oscars                    True\n",
       "release_date              True\n",
       "dtype: bool"
      ]
     },
     "execution_count": 10,
     "metadata": {},
     "output_type": "execute_result"
    }
   ],
   "source": [
    "df.isna().sum() / df.isna().count() < 0.5"
   ]
  },
  {
   "cell_type": "code",
   "execution_count": 11,
   "id": "092d4565",
   "metadata": {},
   "outputs": [
    {
     "data": {
      "text/plain": [
       "array([ True,  True,  True,  True,  True,  True,  True, False,  True,\n",
       "        True, False,  True,  True,  True,  True,  True,  True,  True,\n",
       "        True,  True,  True,  True,  True])"
      ]
     },
     "execution_count": 11,
     "metadata": {},
     "output_type": "execute_result"
    }
   ],
   "source": [
    "(df.isna().sum() / df.isna().count() < 0.5).values"
   ]
  },
  {
   "cell_type": "code",
   "execution_count": 12,
   "id": "ff49ec79",
   "metadata": {},
   "outputs": [],
   "source": [
    "col_non_nulls = (df.isna().sum() / df.isna().count() < 0.5).values"
   ]
  },
  {
   "cell_type": "code",
   "execution_count": 13,
   "id": "75b99fb8",
   "metadata": {},
   "outputs": [],
   "source": [
    "df_non_null_fields = df.loc[:,col_non_nulls]"
   ]
  },
  {
   "cell_type": "code",
   "execution_count": 14,
   "id": "5aa3b746",
   "metadata": {},
   "outputs": [
    {
     "data": {
      "text/plain": [
       "((600, 23), (600, 21))"
      ]
     },
     "execution_count": 14,
     "metadata": {},
     "output_type": "execute_result"
    }
   ],
   "source": [
    "df.shape, df_non_null_fields.shape"
   ]
  },
  {
   "cell_type": "markdown",
   "id": "78eabd3e",
   "metadata": {},
   "source": [
    "<hr style=\"border:2px solid black\">"
   ]
  },
  {
   "cell_type": "markdown",
   "id": "1e523430",
   "metadata": {},
   "source": [
    "### Method\n",
    "#### Fill NAs with average or median value"
   ]
  },
  {
   "cell_type": "code",
   "execution_count": 15,
   "id": "7d360279",
   "metadata": {},
   "outputs": [
    {
     "data": {
      "text/html": [
       "<div>\n",
       "<style scoped>\n",
       "    .dataframe tbody tr th:only-of-type {\n",
       "        vertical-align: middle;\n",
       "    }\n",
       "\n",
       "    .dataframe tbody tr th {\n",
       "        vertical-align: top;\n",
       "    }\n",
       "\n",
       "    .dataframe thead th {\n",
       "        text-align: right;\n",
       "    }\n",
       "</style>\n",
       "<table border=\"1\" class=\"dataframe\">\n",
       "  <thead>\n",
       "    <tr style=\"text-align: right;\">\n",
       "      <th></th>\n",
       "      <th>grossWorldWide</th>\n",
       "    </tr>\n",
       "  </thead>\n",
       "  <tbody>\n",
       "    <tr>\n",
       "      <th>595</th>\n",
       "      <td>2397623.0</td>\n",
       "    </tr>\n",
       "    <tr>\n",
       "      <th>596</th>\n",
       "      <td>3301976.0</td>\n",
       "    </tr>\n",
       "    <tr>\n",
       "      <th>597</th>\n",
       "      <td>NaN</td>\n",
       "    </tr>\n",
       "    <tr>\n",
       "      <th>598</th>\n",
       "      <td>NaN</td>\n",
       "    </tr>\n",
       "    <tr>\n",
       "      <th>599</th>\n",
       "      <td>130017.0</td>\n",
       "    </tr>\n",
       "  </tbody>\n",
       "</table>\n",
       "</div>"
      ],
      "text/plain": [
       "     grossWorldWide\n",
       "595       2397623.0\n",
       "596       3301976.0\n",
       "597             NaN\n",
       "598             NaN\n",
       "599        130017.0"
      ]
     },
     "execution_count": 15,
     "metadata": {},
     "output_type": "execute_result"
    }
   ],
   "source": [
    "df[['grossWorldWide']].tail()"
   ]
  },
  {
   "cell_type": "code",
   "execution_count": 16,
   "id": "1ad1f3bb",
   "metadata": {},
   "outputs": [
    {
     "data": {
      "text/plain": [
       "41938406.83254717"
      ]
     },
     "execution_count": 16,
     "metadata": {},
     "output_type": "execute_result"
    }
   ],
   "source": [
    "df['grossWorldWide'].mean()"
   ]
  },
  {
   "cell_type": "code",
   "execution_count": 17,
   "id": "fef05470",
   "metadata": {},
   "outputs": [
    {
     "data": {
      "text/plain": [
       "1726591.5"
      ]
     },
     "execution_count": 17,
     "metadata": {},
     "output_type": "execute_result"
    }
   ],
   "source": [
    "df['grossWorldWide'].median()"
   ]
  },
  {
   "cell_type": "code",
   "execution_count": 18,
   "id": "3fcd0d10",
   "metadata": {},
   "outputs": [],
   "source": [
    "avg_grossWorldWide = df['grossWorldWide'].mean()\n",
    "median_grossWorldWide = df['grossWorldWide'].median()"
   ]
  },
  {
   "cell_type": "code",
   "execution_count": 19,
   "id": "cabe1146",
   "metadata": {},
   "outputs": [
    {
     "data": {
      "text/html": [
       "<div>\n",
       "<style scoped>\n",
       "    .dataframe tbody tr th:only-of-type {\n",
       "        vertical-align: middle;\n",
       "    }\n",
       "\n",
       "    .dataframe tbody tr th {\n",
       "        vertical-align: top;\n",
       "    }\n",
       "\n",
       "    .dataframe thead th {\n",
       "        text-align: right;\n",
       "    }\n",
       "</style>\n",
       "<table border=\"1\" class=\"dataframe\">\n",
       "  <thead>\n",
       "    <tr style=\"text-align: right;\">\n",
       "      <th></th>\n",
       "      <th>grossWorldWide</th>\n",
       "    </tr>\n",
       "  </thead>\n",
       "  <tbody>\n",
       "    <tr>\n",
       "      <th>595</th>\n",
       "      <td>2397623.0</td>\n",
       "    </tr>\n",
       "    <tr>\n",
       "      <th>596</th>\n",
       "      <td>3301976.0</td>\n",
       "    </tr>\n",
       "    <tr>\n",
       "      <th>597</th>\n",
       "      <td>1726591.5</td>\n",
       "    </tr>\n",
       "    <tr>\n",
       "      <th>598</th>\n",
       "      <td>1726591.5</td>\n",
       "    </tr>\n",
       "    <tr>\n",
       "      <th>599</th>\n",
       "      <td>130017.0</td>\n",
       "    </tr>\n",
       "  </tbody>\n",
       "</table>\n",
       "</div>"
      ],
      "text/plain": [
       "     grossWorldWide\n",
       "595       2397623.0\n",
       "596       3301976.0\n",
       "597       1726591.5\n",
       "598       1726591.5\n",
       "599        130017.0"
      ]
     },
     "execution_count": 19,
     "metadata": {},
     "output_type": "execute_result"
    }
   ],
   "source": [
    "df[['grossWorldWide']].fillna(median_grossWorldWide).tail()"
   ]
  },
  {
   "cell_type": "code",
   "execution_count": 20,
   "id": "74fe7551",
   "metadata": {},
   "outputs": [
    {
     "data": {
      "text/html": [
       "<div>\n",
       "<style scoped>\n",
       "    .dataframe tbody tr th:only-of-type {\n",
       "        vertical-align: middle;\n",
       "    }\n",
       "\n",
       "    .dataframe tbody tr th {\n",
       "        vertical-align: top;\n",
       "    }\n",
       "\n",
       "    .dataframe thead th {\n",
       "        text-align: right;\n",
       "    }\n",
       "</style>\n",
       "<table border=\"1\" class=\"dataframe\">\n",
       "  <thead>\n",
       "    <tr style=\"text-align: right;\">\n",
       "      <th></th>\n",
       "      <th>MPA</th>\n",
       "    </tr>\n",
       "  </thead>\n",
       "  <tbody>\n",
       "    <tr>\n",
       "      <th>0</th>\n",
       "      <td>PG</td>\n",
       "    </tr>\n",
       "    <tr>\n",
       "      <th>1</th>\n",
       "      <td>R</td>\n",
       "    </tr>\n",
       "    <tr>\n",
       "      <th>2</th>\n",
       "      <td>PG</td>\n",
       "    </tr>\n",
       "    <tr>\n",
       "      <th>3</th>\n",
       "      <td>PG</td>\n",
       "    </tr>\n",
       "    <tr>\n",
       "      <th>4</th>\n",
       "      <td>PG</td>\n",
       "    </tr>\n",
       "    <tr>\n",
       "      <th>...</th>\n",
       "      <td>...</td>\n",
       "    </tr>\n",
       "    <tr>\n",
       "      <th>595</th>\n",
       "      <td>NaN</td>\n",
       "    </tr>\n",
       "    <tr>\n",
       "      <th>596</th>\n",
       "      <td>NaN</td>\n",
       "    </tr>\n",
       "    <tr>\n",
       "      <th>597</th>\n",
       "      <td>NaN</td>\n",
       "    </tr>\n",
       "    <tr>\n",
       "      <th>598</th>\n",
       "      <td>NaN</td>\n",
       "    </tr>\n",
       "    <tr>\n",
       "      <th>599</th>\n",
       "      <td>R</td>\n",
       "    </tr>\n",
       "  </tbody>\n",
       "</table>\n",
       "<p>600 rows × 1 columns</p>\n",
       "</div>"
      ],
      "text/plain": [
       "     MPA\n",
       "0     PG\n",
       "1      R\n",
       "2     PG\n",
       "3     PG\n",
       "4     PG\n",
       "..   ...\n",
       "595  NaN\n",
       "596  NaN\n",
       "597  NaN\n",
       "598  NaN\n",
       "599    R\n",
       "\n",
       "[600 rows x 1 columns]"
      ]
     },
     "execution_count": 20,
     "metadata": {},
     "output_type": "execute_result"
    }
   ],
   "source": [
    "df[['MPA']]"
   ]
  },
  {
   "cell_type": "code",
   "execution_count": 21,
   "id": "0bb3d79a",
   "metadata": {},
   "outputs": [
    {
     "data": {
      "text/html": [
       "<div>\n",
       "<style scoped>\n",
       "    .dataframe tbody tr th:only-of-type {\n",
       "        vertical-align: middle;\n",
       "    }\n",
       "\n",
       "    .dataframe tbody tr th {\n",
       "        vertical-align: top;\n",
       "    }\n",
       "\n",
       "    .dataframe thead th {\n",
       "        text-align: right;\n",
       "    }\n",
       "</style>\n",
       "<table border=\"1\" class=\"dataframe\">\n",
       "  <thead>\n",
       "    <tr style=\"text-align: right;\">\n",
       "      <th></th>\n",
       "      <th>MPA</th>\n",
       "    </tr>\n",
       "  </thead>\n",
       "  <tbody>\n",
       "    <tr>\n",
       "      <th>0</th>\n",
       "      <td>PG</td>\n",
       "    </tr>\n",
       "    <tr>\n",
       "      <th>1</th>\n",
       "      <td>R</td>\n",
       "    </tr>\n",
       "    <tr>\n",
       "      <th>2</th>\n",
       "      <td>PG</td>\n",
       "    </tr>\n",
       "    <tr>\n",
       "      <th>3</th>\n",
       "      <td>PG</td>\n",
       "    </tr>\n",
       "    <tr>\n",
       "      <th>4</th>\n",
       "      <td>PG</td>\n",
       "    </tr>\n",
       "    <tr>\n",
       "      <th>...</th>\n",
       "      <td>...</td>\n",
       "    </tr>\n",
       "    <tr>\n",
       "      <th>595</th>\n",
       "      <td>Not Rated</td>\n",
       "    </tr>\n",
       "    <tr>\n",
       "      <th>596</th>\n",
       "      <td>Not Rated</td>\n",
       "    </tr>\n",
       "    <tr>\n",
       "      <th>597</th>\n",
       "      <td>Not Rated</td>\n",
       "    </tr>\n",
       "    <tr>\n",
       "      <th>598</th>\n",
       "      <td>Not Rated</td>\n",
       "    </tr>\n",
       "    <tr>\n",
       "      <th>599</th>\n",
       "      <td>R</td>\n",
       "    </tr>\n",
       "  </tbody>\n",
       "</table>\n",
       "<p>600 rows × 1 columns</p>\n",
       "</div>"
      ],
      "text/plain": [
       "           MPA\n",
       "0           PG\n",
       "1            R\n",
       "2           PG\n",
       "3           PG\n",
       "4           PG\n",
       "..         ...\n",
       "595  Not Rated\n",
       "596  Not Rated\n",
       "597  Not Rated\n",
       "598  Not Rated\n",
       "599          R\n",
       "\n",
       "[600 rows x 1 columns]"
      ]
     },
     "execution_count": 21,
     "metadata": {},
     "output_type": "execute_result"
    }
   ],
   "source": [
    "df[['MPA']].fillna('Not Rated')"
   ]
  },
  {
   "cell_type": "code",
   "execution_count": 22,
   "id": "3a1afd33",
   "metadata": {},
   "outputs": [
    {
     "data": {
      "text/plain": [
       "<Axes: ylabel='Frequency'>"
      ]
     },
     "execution_count": 22,
     "metadata": {},
     "output_type": "execute_result"
    },
    {
     "data": {
      "image/png": "[encoded data removed]",
      "text/plain": [
       "<Figure size 640x480 with 1 Axes>"
      ]
     },
     "metadata": {},
     "output_type": "display_data"
    }
   ],
   "source": [
    "df['grossWorldWide'].plot.hist(bins=df['grossWorldWide'].nunique())"
   ]
  },
  {
   "cell_type": "code",
   "execution_count": 23,
   "id": "8a4a9a84",
   "metadata": {},
   "outputs": [
    {
     "data": {
      "text/plain": [
       "<Axes: ylabel='Frequency'>"
      ]
     },
     "execution_count": 23,
     "metadata": {},
     "output_type": "execute_result"
    },
    {
     "data": {
      "image/png": "[encoded data removed]",
      "text/plain": [
       "<Figure size 640x480 with 1 Axes>"
      ]
     },
     "metadata": {},
     "output_type": "display_data"
    }
   ],
   "source": [
    "df['grossWorldWide'].fillna(avg_grossWorldWide).plot.hist(bins=df['grossWorldWide'].nunique(), )"
   ]
  },
  {
   "cell_type": "code",
   "execution_count": null,
   "id": "713457f7",
   "metadata": {},
   "outputs": [],
   "source": []
  },
  {
   "cell_type": "markdown",
   "id": "426a5733",
   "metadata": {},
   "source": [
    "<hr style=\"border:2px solid black\">"
   ]
  },
  {
   "cell_type": "markdown",
   "id": "69877c45",
   "metadata": {},
   "source": [
    "### Method\n",
    "#### Impute NAs with best guess based on KNN algorithm"
   ]
  },
  {
   "cell_type": "code",
   "execution_count": 24,
   "id": "7c48fdee",
   "metadata": {},
   "outputs": [
    {
     "name": "stdout",
     "output_type": "stream",
     "text": [
      "Requirement already satisfied: scikit-learn in c:\\users\\zave\\anaconda3\\anaconda 10.31.2020\\envs\\test2\\lib\\site-packages (1.3.2)\n",
      "Requirement already satisfied: numpy<2.0,>=1.17.3 in c:\\users\\zave\\anaconda3\\anaconda 10.31.2020\\envs\\test2\\lib\\site-packages (from scikit-learn) (1.23.5)\n",
      "Requirement already satisfied: scipy>=1.5.0 in c:\\users\\zave\\appdata\\roaming\\python\\python38\\site-packages (from scikit-learn) (1.10.1)\n",
      "Requirement already satisfied: joblib>=1.1.1 in c:\\users\\zave\\anaconda3\\anaconda 10.31.2020\\envs\\test2\\lib\\site-packages (from scikit-learn) (1.2.0)\n",
      "Requirement already satisfied: threadpoolctl>=2.0.0 in c:\\users\\zave\\anaconda3\\anaconda 10.31.2020\\envs\\test2\\lib\\site-packages (from scikit-learn) (3.5.0)\n"
     ]
    }
   ],
   "source": [
    "! pip install scikit-learn"
   ]
  },
  {
   "cell_type": "code",
   "execution_count": 25,
   "id": "cfa5dd45",
   "metadata": {},
   "outputs": [],
   "source": [
    "# import the KNNimputer class\n",
    "from sklearn.impute import KNNImputer"
   ]
  },
  {
   "cell_type": "code",
   "execution_count": 26,
   "id": "40df891c",
   "metadata": {},
   "outputs": [
    {
     "name": "stdout",
     "output_type": "stream",
     "text": [
      "<class 'pandas.core.frame.DataFrame'>\n",
      "RangeIndex: 600 entries, 0 to 599\n",
      "Data columns (total 23 columns):\n",
      " #   Column                 Non-Null Count  Dtype  \n",
      "---  ------                 --------------  -----  \n",
      " 0   Title                  600 non-null    object \n",
      " 1   Movie Link             600 non-null    object \n",
      " 2   Year                   600 non-null    int64  \n",
      " 3   Duration               594 non-null    object \n",
      " 4   MPA                    369 non-null    object \n",
      " 5   Rating                 597 non-null    float64\n",
      " 6   Votes                  597 non-null    object \n",
      " 7   budget                 151 non-null    float64\n",
      " 8   grossWorldWide         424 non-null    float64\n",
      " 9   gross_US_Canada        316 non-null    float64\n",
      " 10  opening_weekend_Gross  298 non-null    float64\n",
      " 11  directors              600 non-null    object \n",
      " 12  writers                600 non-null    object \n",
      " 13  stars                  600 non-null    object \n",
      " 14  genres                 600 non-null    object \n",
      " 15  countries_origin       600 non-null    object \n",
      " 16  filming_locations      600 non-null    object \n",
      " 17  production_companies   600 non-null    object \n",
      " 18  Languages              600 non-null    object \n",
      " 19  wins                   600 non-null    int64  \n",
      " 20  nominations            600 non-null    int64  \n",
      " 21  oscars                 600 non-null    int64  \n",
      " 22  release_date           600 non-null    int64  \n",
      "dtypes: float64(5), int64(5), object(13)\n",
      "memory usage: 107.9+ KB\n"
     ]
    }
   ],
   "source": [
    "df.info()"
   ]
  },
  {
   "cell_type": "code",
   "execution_count": 27,
   "id": "4828d9c1",
   "metadata": {},
   "outputs": [],
   "source": [
    "columns_to_impute = ['budget', 'grossWorldWide', 'gross_US_Canada']"
   ]
  },
  {
   "cell_type": "code",
   "execution_count": 28,
   "id": "c0557005",
   "metadata": {},
   "outputs": [
    {
     "data": {
      "text/html": [
       "<div>\n",
       "<style scoped>\n",
       "    .dataframe tbody tr th:only-of-type {\n",
       "        vertical-align: middle;\n",
       "    }\n",
       "\n",
       "    .dataframe tbody tr th {\n",
       "        vertical-align: top;\n",
       "    }\n",
       "\n",
       "    .dataframe thead th {\n",
       "        text-align: right;\n",
       "    }\n",
       "</style>\n",
       "<table border=\"1\" class=\"dataframe\">\n",
       "  <thead>\n",
       "    <tr style=\"text-align: right;\">\n",
       "      <th></th>\n",
       "      <th>budget</th>\n",
       "      <th>grossWorldWide</th>\n",
       "      <th>gross_US_Canada</th>\n",
       "    </tr>\n",
       "  </thead>\n",
       "  <tbody>\n",
       "    <tr>\n",
       "      <th>0</th>\n",
       "      <td>200000000.0</td>\n",
       "      <td>1.698773e+09</td>\n",
       "      <td>652980194.0</td>\n",
       "    </tr>\n",
       "    <tr>\n",
       "      <th>1</th>\n",
       "      <td>200000000.0</td>\n",
       "      <td>1.338074e+09</td>\n",
       "      <td>636745858.0</td>\n",
       "    </tr>\n",
       "    <tr>\n",
       "      <th>2</th>\n",
       "      <td>150000000.0</td>\n",
       "      <td>6.547759e+08</td>\n",
       "      <td>443881945.0</td>\n",
       "    </tr>\n",
       "    <tr>\n",
       "      <th>3</th>\n",
       "      <td>150000000.0</td>\n",
       "      <td>9.134555e+08</td>\n",
       "      <td>416855483.0</td>\n",
       "    </tr>\n",
       "    <tr>\n",
       "      <th>4</th>\n",
       "      <td>100000000.0</td>\n",
       "      <td>9.691265e+08</td>\n",
       "      <td>361004205.0</td>\n",
       "    </tr>\n",
       "    <tr>\n",
       "      <th>...</th>\n",
       "      <td>...</td>\n",
       "      <td>...</td>\n",
       "      <td>...</td>\n",
       "    </tr>\n",
       "    <tr>\n",
       "      <th>595</th>\n",
       "      <td>NaN</td>\n",
       "      <td>2.397623e+06</td>\n",
       "      <td>NaN</td>\n",
       "    </tr>\n",
       "    <tr>\n",
       "      <th>596</th>\n",
       "      <td>NaN</td>\n",
       "      <td>3.301976e+06</td>\n",
       "      <td>NaN</td>\n",
       "    </tr>\n",
       "    <tr>\n",
       "      <th>597</th>\n",
       "      <td>NaN</td>\n",
       "      <td>NaN</td>\n",
       "      <td>NaN</td>\n",
       "    </tr>\n",
       "    <tr>\n",
       "      <th>598</th>\n",
       "      <td>NaN</td>\n",
       "      <td>NaN</td>\n",
       "      <td>NaN</td>\n",
       "    </tr>\n",
       "    <tr>\n",
       "      <th>599</th>\n",
       "      <td>NaN</td>\n",
       "      <td>1.300170e+05</td>\n",
       "      <td>NaN</td>\n",
       "    </tr>\n",
       "  </tbody>\n",
       "</table>\n",
       "<p>600 rows × 3 columns</p>\n",
       "</div>"
      ],
      "text/plain": [
       "          budget  grossWorldWide  gross_US_Canada\n",
       "0    200000000.0    1.698773e+09      652980194.0\n",
       "1    200000000.0    1.338074e+09      636745858.0\n",
       "2    150000000.0    6.547759e+08      443881945.0\n",
       "3    150000000.0    9.134555e+08      416855483.0\n",
       "4    100000000.0    9.691265e+08      361004205.0\n",
       "..           ...             ...              ...\n",
       "595          NaN    2.397623e+06              NaN\n",
       "596          NaN    3.301976e+06              NaN\n",
       "597          NaN             NaN              NaN\n",
       "598          NaN             NaN              NaN\n",
       "599          NaN    1.300170e+05              NaN\n",
       "\n",
       "[600 rows x 3 columns]"
      ]
     },
     "execution_count": 28,
     "metadata": {},
     "output_type": "execute_result"
    }
   ],
   "source": [
    "df[columns_to_impute]"
   ]
  },
  {
   "cell_type": "code",
   "execution_count": 29,
   "id": "62a57248",
   "metadata": {},
   "outputs": [],
   "source": [
    "# create an object for KNNImputer\n",
    "imputer = KNNImputer(n_neighbors=2)\n",
    "after_imputation = imputer.fit_transform(df[columns_to_impute])"
   ]
  },
  {
   "cell_type": "code",
   "execution_count": 30,
   "id": "ebde1fe4",
   "metadata": {},
   "outputs": [
    {
     "data": {
      "text/plain": [
       "array([[2.00000000e+08, 1.69877298e+09, 6.52980194e+08],\n",
       "       [2.00000000e+08, 1.33807364e+09, 6.36745858e+08],\n",
       "       [1.50000000e+08, 6.54775945e+08, 4.43881945e+08],\n",
       "       ...,\n",
       "       [2.10598540e+09, 4.19384068e+07, 2.51250019e+07],\n",
       "       [2.10598540e+09, 4.19384068e+07, 2.51250019e+07],\n",
       "       [4.29500000e+08, 1.30017000e+05, 8.45140000e+04]])"
      ]
     },
     "execution_count": 30,
     "metadata": {},
     "output_type": "execute_result"
    }
   ],
   "source": [
    "after_imputation"
   ]
  },
  {
   "cell_type": "code",
   "execution_count": 31,
   "id": "5849e078",
   "metadata": {},
   "outputs": [
    {
     "data": {
      "text/html": [
       "<div>\n",
       "<style scoped>\n",
       "    .dataframe tbody tr th:only-of-type {\n",
       "        vertical-align: middle;\n",
       "    }\n",
       "\n",
       "    .dataframe tbody tr th {\n",
       "        vertical-align: top;\n",
       "    }\n",
       "\n",
       "    .dataframe thead th {\n",
       "        text-align: right;\n",
       "    }\n",
       "</style>\n",
       "<table border=\"1\" class=\"dataframe\">\n",
       "  <thead>\n",
       "    <tr style=\"text-align: right;\">\n",
       "      <th></th>\n",
       "      <th>budget</th>\n",
       "      <th>grossWorldWide</th>\n",
       "      <th>gross_US_Canada</th>\n",
       "    </tr>\n",
       "  </thead>\n",
       "  <tbody>\n",
       "    <tr>\n",
       "      <th>0</th>\n",
       "      <td>2.000000e+08</td>\n",
       "      <td>1.698773e+09</td>\n",
       "      <td>6.529802e+08</td>\n",
       "    </tr>\n",
       "    <tr>\n",
       "      <th>1</th>\n",
       "      <td>2.000000e+08</td>\n",
       "      <td>1.338074e+09</td>\n",
       "      <td>6.367459e+08</td>\n",
       "    </tr>\n",
       "    <tr>\n",
       "      <th>2</th>\n",
       "      <td>1.500000e+08</td>\n",
       "      <td>6.547759e+08</td>\n",
       "      <td>4.438819e+08</td>\n",
       "    </tr>\n",
       "    <tr>\n",
       "      <th>3</th>\n",
       "      <td>1.500000e+08</td>\n",
       "      <td>9.134555e+08</td>\n",
       "      <td>4.168555e+08</td>\n",
       "    </tr>\n",
       "    <tr>\n",
       "      <th>4</th>\n",
       "      <td>1.000000e+08</td>\n",
       "      <td>9.691265e+08</td>\n",
       "      <td>3.610042e+08</td>\n",
       "    </tr>\n",
       "    <tr>\n",
       "      <th>...</th>\n",
       "      <td>...</td>\n",
       "      <td>...</td>\n",
       "      <td>...</td>\n",
       "    </tr>\n",
       "    <tr>\n",
       "      <th>595</th>\n",
       "      <td>9.250000e+06</td>\n",
       "      <td>2.397623e+06</td>\n",
       "      <td>1.162281e+06</td>\n",
       "    </tr>\n",
       "    <tr>\n",
       "      <th>596</th>\n",
       "      <td>1.400000e+08</td>\n",
       "      <td>3.301976e+06</td>\n",
       "      <td>3.180796e+06</td>\n",
       "    </tr>\n",
       "    <tr>\n",
       "      <th>597</th>\n",
       "      <td>2.105985e+09</td>\n",
       "      <td>4.193841e+07</td>\n",
       "      <td>2.512500e+07</td>\n",
       "    </tr>\n",
       "    <tr>\n",
       "      <th>598</th>\n",
       "      <td>2.105985e+09</td>\n",
       "      <td>4.193841e+07</td>\n",
       "      <td>2.512500e+07</td>\n",
       "    </tr>\n",
       "    <tr>\n",
       "      <th>599</th>\n",
       "      <td>4.295000e+08</td>\n",
       "      <td>1.300170e+05</td>\n",
       "      <td>8.451400e+04</td>\n",
       "    </tr>\n",
       "  </tbody>\n",
       "</table>\n",
       "<p>600 rows × 3 columns</p>\n",
       "</div>"
      ],
      "text/plain": [
       "           budget  grossWorldWide  gross_US_Canada\n",
       "0    2.000000e+08    1.698773e+09     6.529802e+08\n",
       "1    2.000000e+08    1.338074e+09     6.367459e+08\n",
       "2    1.500000e+08    6.547759e+08     4.438819e+08\n",
       "3    1.500000e+08    9.134555e+08     4.168555e+08\n",
       "4    1.000000e+08    9.691265e+08     3.610042e+08\n",
       "..            ...             ...              ...\n",
       "595  9.250000e+06    2.397623e+06     1.162281e+06\n",
       "596  1.400000e+08    3.301976e+06     3.180796e+06\n",
       "597  2.105985e+09    4.193841e+07     2.512500e+07\n",
       "598  2.105985e+09    4.193841e+07     2.512500e+07\n",
       "599  4.295000e+08    1.300170e+05     8.451400e+04\n",
       "\n",
       "[600 rows x 3 columns]"
      ]
     },
     "execution_count": 31,
     "metadata": {},
     "output_type": "execute_result"
    }
   ],
   "source": [
    "pd.DataFrame(after_imputation, columns = columns_to_impute)"
   ]
  },
  {
   "cell_type": "code",
   "execution_count": null,
   "id": "84336913",
   "metadata": {},
   "outputs": [],
   "source": []
  }
 ],
 "metadata": {
  "kernelspec": {
   "display_name": "Python 3 (ipykernel)",
   "language": "python",
   "name": "python3"
  },
  "language_info": {
   "codemirror_mode": {
    "name": "ipython",
    "version": 3
   },
   "file_extension": ".py",
   "mimetype": "text/x-python",
   "name": "python",
   "nbconvert_exporter": "python",
   "pygments_lexer": "ipython3",
   "version": "3.8.17"
  }
 },
 "nbformat": 4,
 "nbformat_minor": 5
}
